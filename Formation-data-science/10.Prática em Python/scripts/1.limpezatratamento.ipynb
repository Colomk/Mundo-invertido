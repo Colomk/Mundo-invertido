{
 "cells": [
  {
   "cell_type": "markdown",
   "metadata": {},
   "source": [
    "Formação Cientista de Dados - Fernando Amaral e Jones Granatyr\n",
    "Limpeza e tratamento de Dados"
   ]
  },
  {
   "cell_type": "code",
   "execution_count": 23,
   "metadata": {},
   "outputs": [],
   "source": [
    "import pandas as pd\n",
    "import seaborn as srn\n",
    "import statistics  as sts"
   ]
  },
  {
   "cell_type": "code",
   "execution_count": null,
   "metadata": {},
   "outputs": [],
   "source": [
    "#importar dados\n",
    "dataset = pd.read_csv(\"../dados/Churn.csv\", sep=\";\")\n",
    "#visulizar\n",
    "dataset.head() #primeiras linhas, 5 por padrão"
   ]
  },
  {
   "cell_type": "code",
   "execution_count": null,
   "metadata": {},
   "outputs": [],
   "source": [
    "#tamanho\n",
    "dataset.shape # quantidade de linhas e colunas"
   ]
  },
  {
   "cell_type": "code",
   "execution_count": 9,
   "metadata": {},
   "outputs": [],
   "source": [
    "#primeiro problema é dar nomes as colunas\n",
    "dataset.columns = [\"Id\",\"Score\",\"Estado\",\"Genero\",\"Idade\",\"Patrimonio\",\"Saldo\",\"Produtos\",\"TemCartCredito\",\n",
    "                    \"Ativo\",\"Salario\",\"Saiu\"] # renomeando as colunas"
   ]
  },
  {
   "cell_type": "code",
   "execution_count": null,
   "metadata": {},
   "outputs": [],
   "source": [
    "#visulizar\n",
    "dataset.head() #primeiras linhas, 5 por padrão"
   ]
  },
  {
   "cell_type": "code",
   "execution_count": null,
   "metadata": {},
   "outputs": [],
   "source": [
    "#explorar dados categoricos\n",
    "#estado\n",
    "agrupado = dataset.groupby(['Estado']).size() #agrupando por estado\n",
    "agrupado"
   ]
  },
  {
   "cell_type": "code",
   "execution_count": null,
   "metadata": {},
   "outputs": [],
   "source": [
    "agrupado.plot.bar(color = 'gray') #grafico de barras, cinza"
   ]
  },
  {
   "cell_type": "code",
   "execution_count": null,
   "metadata": {},
   "outputs": [],
   "source": [
    "#genero\n",
    "agrupado = dataset.groupby(['Genero']).size()\n",
    "agrupado"
   ]
  },
  {
   "cell_type": "code",
   "execution_count": null,
   "metadata": {},
   "outputs": [],
   "source": [
    "agrupado.plot.bar(color = 'gray')"
   ]
  },
  {
   "cell_type": "code",
   "execution_count": null,
   "metadata": {},
   "outputs": [],
   "source": [
    "#explorar colunas numéricas\n",
    "#score\n",
    "dataset['Score'].describe() #descrevendo a coluna score, resumo estatistico"
   ]
  },
  {
   "cell_type": "code",
   "execution_count": null,
   "metadata": {},
   "outputs": [],
   "source": [
    "srn.boxplot(dataset['Score']).set_title('Score') #grafico de caixa, boxplot"
   ]
  },
  {
   "cell_type": "code",
   "execution_count": null,
   "metadata": {},
   "outputs": [],
   "source": [
    "srn.histplot(dataset['Score']).set_title('Score') #grafico de distribuição"
   ]
  },
  {
   "cell_type": "code",
   "execution_count": null,
   "metadata": {},
   "outputs": [],
   "source": [
    "#idade\n",
    "dataset['Idade'].describe() #descrevendo a coluna idade, resumo estatistico"
   ]
  },
  {
   "cell_type": "code",
   "execution_count": null,
   "metadata": {},
   "outputs": [],
   "source": [
    "srn.boxplot(dataset['Idade']).set_title('Idade') #grafico de caixa, boxplot"
   ]
  },
  {
   "cell_type": "code",
   "execution_count": null,
   "metadata": {},
   "outputs": [],
   "source": [
    "srn.histplot(dataset['Idade']).set_title('Idade') #grafico de distribuição"
   ]
  },
  {
   "cell_type": "code",
   "execution_count": null,
   "metadata": {},
   "outputs": [],
   "source": [
    "#saldo\n",
    "dataset['Saldo'].describe() #descrevendo a coluna saldo, resumo estatistico"
   ]
  },
  {
   "cell_type": "code",
   "execution_count": null,
   "metadata": {},
   "outputs": [],
   "source": [
    "srn.boxplot(dataset['Saldo']).set_title('Saldo') #grafico de caixa, boxplot"
   ]
  },
  {
   "cell_type": "code",
   "execution_count": null,
   "metadata": {},
   "outputs": [],
   "source": [
    "srn.histplot(dataset['Saldo']).set_title('Saldo')"
   ]
  },
  {
   "cell_type": "code",
   "execution_count": null,
   "metadata": {},
   "outputs": [],
   "source": [
    "#salário\n",
    "dataset['Salario'].describe()  #descrevendo a coluna salario, resumo estatistico"
   ]
  },
  {
   "cell_type": "code",
   "execution_count": null,
   "metadata": {},
   "outputs": [],
   "source": [
    "srn.boxplot(dataset['Salario']).set_title('Salario') #grafico de caixa, boxplot"
   ]
  },
  {
   "cell_type": "code",
   "execution_count": null,
   "metadata": {},
   "outputs": [],
   "source": [
    "srn.histplot(dataset['Salario']).set_title('Salario') #grafico de distribuição"
   ]
  },
  {
   "cell_type": "code",
   "execution_count": null,
   "metadata": {},
   "outputs": [],
   "source": [
    "#contamos valores NAN\n",
    "#genero e salário\n",
    "dataset.isnull().sum() #contando valores nulos"
   ]
  },
  {
   "cell_type": "code",
   "execution_count": null,
   "metadata": {},
   "outputs": [],
   "source": [
    "#salarios\n",
    "#remover nas e substiutir pela mediana\n",
    "dataset['Salario'].describe() #descrevendo a coluna salario, resumo estatistico"
   ]
  },
  {
   "cell_type": "code",
   "execution_count": null,
   "metadata": {},
   "outputs": [],
   "source": [
    "mediana = sts.median(dataset['Salario']) #calculando a mediana\n",
    "mediana"
   ]
  },
  {
   "cell_type": "code",
   "execution_count": null,
   "metadata": {},
   "outputs": [],
   "source": [
    "#substituir NAN por mediana\n",
    "dataset['Salario'].fillna(mediana, inplace=True) #substituindo os valores nulos pela mediana, inplace=True para modificar o dataset"
   ]
  },
  {
   "cell_type": "code",
   "execution_count": null,
   "metadata": {},
   "outputs": [],
   "source": [
    "#Verificamos se NAN não existem mais\n",
    "dataset['Salario'].isnull().sum() #contando valores nulos"
   ]
  },
  {
   "cell_type": "code",
   "execution_count": null,
   "metadata": {},
   "outputs": [],
   "source": [
    "#genero, falta de padronização e NAs\n",
    "agrupado = dataset.groupby(['Genero']).size() #agrupando por genero\n",
    "agrupado #visualizando"
   ]
  },
  {
   "cell_type": "code",
   "execution_count": null,
   "metadata": {},
   "outputs": [],
   "source": [
    "#total de Nas\n",
    "dataset['Genero'].isnull().sum() #contando valores nulos"
   ]
  },
  {
   "cell_type": "code",
   "execution_count": null,
   "metadata": {},
   "outputs": [],
   "source": [
    "#preenche NAs com Masculino (moda)\n",
    "dataset['Genero'].fillna('Masculino', inplace=True) #substituindo os valores nulos por Masculino, usando a moda"
   ]
  },
  {
   "cell_type": "code",
   "execution_count": null,
   "metadata": {},
   "outputs": [],
   "source": [
    "#verificamos novamente NANs\n",
    "dataset['Genero'].isnull().sum() #contando valores nulos"
   ]
  },
  {
   "cell_type": "code",
   "execution_count": null,
   "metadata": {},
   "outputs": [],
   "source": [
    "#padroniza de acordo com o dominio\n",
    "dataset.loc[dataset['Genero'] ==  'M', 'Genero'] = \"Masculino\" #substituindo M por Masculino\n",
    "dataset.loc[dataset['Genero'].isin( ['Fem','F']), 'Genero'] = \"Feminino\" #substituindo Fem e F por Feminino\n",
    "#isin para verificar se está na lista\n",
    "#visualiza o resultado\n",
    "agrupado = dataset.groupby(['Genero']).size()  #agrupando por genero\n",
    "agrupado"
   ]
  },
  {
   "cell_type": "code",
   "execution_count": null,
   "metadata": {},
   "outputs": [],
   "source": [
    "#idades fora do dominio\n",
    "dataset['Idade'].describe() #descrevendo a coluna idade, resumo estatistico"
   ]
  },
  {
   "cell_type": "code",
   "execution_count": null,
   "metadata": {},
   "outputs": [],
   "source": [
    "#visualizar \n",
    "dataset.loc[(dataset['Idade'] <  0 )  | ( dataset['Idade'] >  120) ] #visualizando idades fora do dominio"
   ]
  },
  {
   "cell_type": "code",
   "execution_count": null,
   "metadata": {},
   "outputs": [],
   "source": [
    "#calular a mediana\n",
    "mediana = sts.median(dataset['Idade']) #calculando a mediana\n",
    "mediana"
   ]
  },
  {
   "cell_type": "code",
   "execution_count": 60,
   "metadata": {},
   "outputs": [],
   "source": [
    "#substituir\n",
    "dataset.loc[(dataset['Idade'] <  0 )  | ( dataset['Idade'] >  120), 'Idade'] = mediana #substituindo idades fora do dominio pela mediana"
   ]
  },
  {
   "cell_type": "code",
   "execution_count": null,
   "metadata": {},
   "outputs": [],
   "source": [
    "#verificamos se ainda existem idades fora do domínio\n",
    "dataset.loc[(dataset['Idade'] <  0 )  | ( dataset['Idade'] >  120) ] #visualizando idades fora do dominio"
   ]
  },
  {
   "cell_type": "code",
   "execution_count": null,
   "metadata": {},
   "outputs": [],
   "source": [
    "#dados duplicados, buscamos pelo ID\n",
    "dataset[dataset.duplicated(['Id'],keep=False)] #buscando duplicados,  keep=False para mostrar todos os duplicados"
   ]
  },
  {
   "cell_type": "code",
   "execution_count": null,
   "metadata": {},
   "outputs": [],
   "source": [
    "#excluimso pelo ID\n",
    "dataset.drop_duplicates(subset=\"Id\", keep='first',inplace=True)\n",
    "#excluindo duplicados, keep='first' para manter a primeira ocorrência, inplace=True para modificar o dataset\n",
    "#buscamos duplicados \n",
    "dataset[dataset.duplicated(['Id'],keep=False)] #buscando duplicados,  keep=False para mostrar todos os duplicados"
   ]
  },
  {
   "cell_type": "code",
   "execution_count": null,
   "metadata": {},
   "outputs": [],
   "source": [
    "#estado foram do domínio\n",
    "agrupado = dataset.groupby(['Estado']).size() #agrupando por estado\n",
    "agrupado"
   ]
  },
  {
   "cell_type": "code",
   "execution_count": 73,
   "metadata": {},
   "outputs": [],
   "source": [
    "#atribuomos RS (moda)\n",
    "dataset.loc[dataset['Estado'].isin( ['RP','SP','TD']), 'Estado'] = \"RS\" #substituindo RP, SP e TD por RS\n",
    "agrupado = dataset.groupby(['Estado']).size() # reagrupando por estado"
   ]
  },
  {
   "cell_type": "code",
   "execution_count": null,
   "metadata": {},
   "outputs": [],
   "source": [
    "#verificamos o resultado\n",
    "agrupado"
   ]
  },
  {
   "cell_type": "code",
   "execution_count": null,
   "metadata": {},
   "outputs": [],
   "source": [
    "#outliers em salário, vamos considerar 2 desvios padrão\n",
    "desv = sts.stdev(dataset['Salario']) #calculando o desvio padrão\n",
    "desv"
   ]
  },
  {
   "cell_type": "code",
   "execution_count": null,
   "metadata": {},
   "outputs": [],
   "source": [
    "#definir padrão como maior que 2 desvios padrão\n",
    "#checamos se algum atende critério\n",
    "dataset.loc[dataset['Salario'] >=  2 * desv ] #verificando salarios maiores que 2 desvios padrão"
   ]
  },
  {
   "cell_type": "code",
   "execution_count": null,
   "metadata": {},
   "outputs": [],
   "source": [
    "#vamos atualiar salarios para mediana, calculamos\n",
    "mediana = sts.median(dataset['Salario']) #calculando a mediana\n",
    "mediana"
   ]
  },
  {
   "cell_type": "code",
   "execution_count": null,
   "metadata": {},
   "outputs": [],
   "source": [
    "#atribumos\n",
    "dataset.loc[dataset['Salario'] >=  2 * desv, 'Salario'] = mediana #substituindo salarios maiores que 2 desvios padrão pela mediana\n",
    "#checamos se algum atende critério\n",
    "dataset.loc[dataset['Salario'] >=  2 * desv ]  #verificando salarios maiores que 2 desvios padrão"
   ]
  }
 ],
 "metadata": {
  "kernelspec": {
   "display_name": "Python 3",
   "language": "python",
   "name": "python3"
  },
  "language_info": {
   "codemirror_mode": {
    "name": "ipython",
    "version": 3
   },
   "file_extension": ".py",
   "mimetype": "text/x-python",
   "name": "python",
   "nbconvert_exporter": "python",
   "pygments_lexer": "ipython3",
   "version": "3.13.1"
  }
 },
 "nbformat": 4,
 "nbformat_minor": 4
}
