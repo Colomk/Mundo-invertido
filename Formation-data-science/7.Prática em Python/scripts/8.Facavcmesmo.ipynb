{
 "cells": [
  {
   "cell_type": "markdown",
   "metadata": {},
   "source": [
    "# Formação Cientista de Dados - Prof. Fernando Amaral\n",
    "Faça você mesmo"
   ]
  },
  {
   "cell_type": "code",
   "execution_count": null,
   "metadata": {},
   "outputs": [],
   "source": [
    "#1. Faça um programa que tenha uma função chamada amplitude. A função deve receber uma lista e imprimir a amplitude.\n",
    "#Crie também um código para testar sua função\n",
    "def amplitude(lista):\n",
    "    print(f\"Amplitude: {max(lista) - min(lista)}\")\n",
    "    return\n",
    "\n",
    "a = [12, 23, 34, 45, 56, 67, 78, 89, 90]\n",
    "amplitude(a)"
   ]
  },
  {
   "cell_type": "code",
   "execution_count": null,
   "metadata": {},
   "outputs": [],
   "source": [
    "#2. Faça uma função que receba uma string e imprima esta string na forma vertical\n",
    "def vertical(string):\n",
    "    for x in string:\n",
    "        print(x)\n",
    "\n",
    "vertical(\"Hello World\")\n"
   ]
  },
  {
   "cell_type": "code",
   "execution_count": null,
   "metadata": {},
   "outputs": [],
   "source": [
    "#3. Crie um programa que leia o peso de uma carga em números inteiros. \n",
    "#Se o peso for até 10 kg, informe que o valor será de R$ 50,00. \n",
    "#Entre 11 e 20 kg, informe que o valor será de R$ 80. \n",
    "# Se for maior que  20 informe que o transporte não é aceito. Teste vários pesos.\n",
    "\n",
    "peso = int(input(\"Digite o peso da carga: \"))\n",
    "\n",
    "if peso <= 10:\n",
    "\tprint(\"R$ 50,00\")\n",
    "elif peso <=20:\n",
    "\tprint(\"R$ 80,00\")\n",
    "else:\n",
    "\tprint(\"Transporte não aceito\")\n"
   ]
  }
 ],
 "metadata": {
  "kernelspec": {
   "display_name": "Python 3",
   "language": "python",
   "name": "python3"
  },
  "language_info": {
   "codemirror_mode": {
    "name": "ipython",
    "version": 3
   },
   "file_extension": ".py",
   "mimetype": "text/x-python",
   "name": "python",
   "nbconvert_exporter": "python",
   "pygments_lexer": "ipython3",
   "version": "3.13.1"
  }
 },
 "nbformat": 4,
 "nbformat_minor": 4
}
