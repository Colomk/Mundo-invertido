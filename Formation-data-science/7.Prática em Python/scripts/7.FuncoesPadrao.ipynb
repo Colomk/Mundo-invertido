{
 "cells": [
  {
   "cell_type": "markdown",
   "metadata": {},
   "source": [
    "# Formação Cientista de Dados - Prof. Fernando Amaral\n",
    "Funções Padrão"
   ]
  },
  {
   "cell_type": "code",
   "execution_count": null,
   "metadata": {},
   "outputs": [],
   "source": [
    "#funções internas\n",
    "print(abs(-200)) #retorna o valor absoluto\n",
    "lst = [1,2,30,30,45]\n",
    "print(\"Maior valor: \", max(lst)) # retorna o maior valor\n",
    "print(\"Menor valor: \", min(lst)) # retorna o menor valor\n",
    "print(\"Soma: \", sum(lst)) # retorna a soma dos valores\n",
    "print(\"Arredondamento: \", round(2.34567,2)) # arredonda para duas casas decimais"
   ]
  },
  {
   "cell_type": "code",
   "execution_count": null,
   "metadata": {},
   "outputs": [],
   "source": [
    "#statistica\n",
    "from statistics import *\n",
    "print(\"Média: \", mean(lst)) #retorna a média\n",
    "print(\"Mediana: \", median(lst)) #retorna o valor do meio\n",
    "print(\"Moda: \", mode(lst)) #retorna o valor que mais se repete"
   ]
  },
  {
   "cell_type": "code",
   "execution_count": null,
   "metadata": {},
   "outputs": [],
   "source": [
    "#desvio padrão da amostra\n",
    "print(\"Desvio padrão: \", stdev(lst)) #retorna o desvio padrão, que é a raiz quadrada da variância"
   ]
  },
  {
   "cell_type": "code",
   "execution_count": null,
   "metadata": {},
   "outputs": [],
   "source": [
    "#variancia da amostra\n",
    "print(\"Variância: \", variance(lst)) #retorna a variância, que é a média dos quadrados das diferenças entre cada valor e a média"
   ]
  },
  {
   "cell_type": "code",
   "execution_count": null,
   "metadata": {},
   "outputs": [],
   "source": [
    "from numpy import *\n",
    "a = random.random((8,8)) #cria uma matriz 8x8 com valores aleatórios\n",
    "print(type(a)) # imprime o tipo da variável\n",
    "print(a)"
   ]
  },
  {
   "cell_type": "code",
   "execution_count": null,
   "metadata": {},
   "outputs": [],
   "source": []
  }
 ],
 "metadata": {
  "kernelspec": {
   "display_name": "Python 3",
   "language": "python",
   "name": "python3"
  },
  "language_info": {
   "codemirror_mode": {
    "name": "ipython",
    "version": 3
   },
   "file_extension": ".py",
   "mimetype": "text/x-python",
   "name": "python",
   "nbconvert_exporter": "python",
   "pygments_lexer": "ipython3",
   "version": "3.13.1"
  }
 },
 "nbformat": 4,
 "nbformat_minor": 4
}
