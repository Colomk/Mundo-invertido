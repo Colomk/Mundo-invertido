{
 "cells": [
  {
   "cell_type": "code",
   "execution_count": null,
   "id": "7203b80b-8a87-4516-8014-f05b6643028d",
   "metadata": {},
   "outputs": [],
   "source": [
    "#Formação Cientista de Dados # Prof. Fernando Amaral"
   ]
  },
  {
   "cell_type": "code",
   "execution_count": null,
   "id": "7fb1ca8c-bcfd-4550-8d9b-1f34ac7ffe48",
   "metadata": {
    "tags": []
   },
   "outputs": [],
   "source": [
    "#!pip install openai"
   ]
  },
  {
   "cell_type": "code",
   "execution_count": null,
   "id": "581a99fc-d44b-4154-b3e9-eb61b01dfad4",
   "metadata": {
    "tags": []
   },
   "outputs": [],
   "source": [
    "from openai import OpenAI"
   ]
  },
  {
   "cell_type": "code",
   "execution_count": null,
   "id": "e0895742-c823-42e6-ace8-ff1f42856256",
   "metadata": {
    "tags": []
   },
   "outputs": [],
   "source": [
    "client = OpenAI(api_key=\"\")\n",
    "model = \"gpt-3.5-turbo\"\n",
    "\n",
    "batata = 'Ak1wL14HC9Iu0BDBOu7NT3BlbkFJ3sm8ea9ZnYiZLP3p5uln'#sk-"
   ]
  },
  {
   "cell_type": "code",
   "execution_count": null,
   "id": "89ae9bf6-7f50-45d2-8169-d7152de46b07",
   "metadata": {
    "tags": []
   },
   "outputs": [],
   "source": [
    "response = client.chat.completions.create(\n",
    "  model=model,\n",
    "  messages=[\n",
    "    {\"role\": \"user\", \"content\": \"Tell me a Joke\"}\n",
    "  ]\n",
    ")"
   ]
  },
  {
   "cell_type": "code",
   "execution_count": null,
   "id": "1ebdaae6-5394-494c-9b6a-1f79558249e6",
   "metadata": {
    "tags": []
   },
   "outputs": [],
   "source": [
    "print(response)"
   ]
  },
  {
   "cell_type": "code",
   "execution_count": null,
   "id": "2e8d9526-6406-48f7-8859-3530355b7d2d",
   "metadata": {
    "tags": []
   },
   "outputs": [],
   "source": [
    "message = (response.choices[0].message.content)\n",
    "print(message)"
   ]
  },
  {
   "cell_type": "code",
   "execution_count": null,
   "id": "b8475527-a6ab-4220-9b48-60dc8242f61a",
   "metadata": {
    "tags": []
   },
   "outputs": [],
   "source": [
    "response = client.chat.completions.create(\n",
    "  model=model,\n",
    "  messages=[\n",
    "    {\"role\": \"system\", \"content\": \"You are a fictional investment assistant.\"},\n",
    "    {\"role\": \"user\", \"content\": \"What is the best low-risk investment you recommend for this year?\"}\n",
    "  ]\n",
    ")"
   ]
  },
  {
   "cell_type": "code",
   "execution_count": null,
   "id": "036f8e68-51ad-4a8e-8c3a-ef57f2b91c4e",
   "metadata": {
    "tags": []
   },
   "outputs": [],
   "source": [
    "message = (response.choices[0].message.content)\n",
    "print(message)"
   ]
  },
  {
   "cell_type": "code",
   "execution_count": null,
   "id": "81879bfc-a1fe-4e88-90ac-7db52946493c",
   "metadata": {
    "tags": []
   },
   "outputs": [],
   "source": [
    "response = client.chat.completions.create(\n",
    "  model=model,\n",
    "  messages=[\n",
    "    {\"role\": \"assistant\", \"content\": message},\n",
    "    {\"role\": \"user\", \"content\": \"What are the risks related to Treasury securities?\"}\n",
    "  ]\n",
    ")"
   ]
  },
  {
   "cell_type": "code",
   "execution_count": null,
   "id": "5e95729b-d2b9-4b41-a7fe-fe498d24f0df",
   "metadata": {
    "tags": []
   },
   "outputs": [],
   "source": [
    "print(response.choices[0].message.content)"
   ]
  },
  {
   "cell_type": "code",
   "execution_count": null,
   "id": "a70f6331-69a4-47ee-a8ca-d4815fc53c0f",
   "metadata": {},
   "outputs": [],
   "source": []
  }
 ],
 "metadata": {
  "kernelspec": {
   "display_name": "Python 3 (ipykernel)",
   "language": "python",
   "name": "python3"
  },
  "language_info": {
   "codemirror_mode": {
    "name": "ipython",
    "version": 3
   },
   "file_extension": ".py",
   "mimetype": "text/x-python",
   "name": "python",
   "nbconvert_exporter": "python",
   "pygments_lexer": "ipython3",
   "version": "3.11.5"
  }
 },
 "nbformat": 4,
 "nbformat_minor": 5
}
